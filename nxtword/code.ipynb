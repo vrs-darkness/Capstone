{
 "cells": [
  {
   "cell_type": "markdown",
   "metadata": {},
   "source": [
    "#### Building a Simple Next Word Prediction Model"
   ]
  },
  {
   "cell_type": "code",
   "execution_count": 14,
   "metadata": {},
   "outputs": [],
   "source": [
    "# Import all the packages\n",
    "from datasets import load_dataset\n",
    "import tensorflow as tf\n",
    "import pandas as pd \n",
    "import numpy as np\n",
    "from keras.models import Sequential\n",
    "from keras.layers import Embedding, LSTM, Dense\n",
    "import fasttext\n",
    "import re"
   ]
  },
  {
   "cell_type": "code",
   "execution_count": 9,
   "metadata": {},
   "outputs": [],
   "source": [
    "# Loading the Dataset\n",
    "ds = load_dataset(\"agentlans/high-quality-english-sentences\")\n",
    "count = 500"
   ]
  },
  {
   "cell_type": "code",
   "execution_count": 10,
   "metadata": {},
   "outputs": [
    {
     "name": "stdout",
     "output_type": "stream",
     "text": [
      "Sample Text Information:  Soon we dropped into a living forest, where cold-tolerant evergreens and boreal animals still evoke the Canadian heritage of an ecosystem pushed south by glaciers 20,000 years ago.\n"
     ]
    }
   ],
   "source": [
    "DataFrame = pd.DataFrame(data=ds['train']['text'][:count],columns=['Text'])\n",
    "print(\"Sample Text Information: \", DataFrame.iloc[0]['Text'])"
   ]
  },
  {
   "cell_type": "code",
   "execution_count": null,
   "metadata": {},
   "outputs": [],
   "source": [
    "# This will generate all the Inputs and Outputs\n",
    "vocab = None\n",
    "Data = []\n",
    "for i in DataFrame['Text']:\n",
    "    temp = {'X': [], 'Y' : []}\n",
    "    info = re.sub(r'[!@#$%^&*()\\-=_{}[\\];:\"\\'<>,.?/|\\\\]', '', i)\n",
    "    info = i.split(' ')\n",
    "    for x in range(0,len(info)-max_length):\n",
    "        temp['X'].append(info[x:x+max_length])\n",
    "        temp['Y'].append(info[x+max_length])\n",
    "    Data.append(temp)"
   ]
  },
  {
   "cell_type": "code",
   "execution_count": 40,
   "metadata": {},
   "outputs": [
    {
     "data": {
      "text/plain": [
       "['living',\n",
       " 'forest,',\n",
       " 'where',\n",
       " 'cold-tolerant',\n",
       " 'evergreens',\n",
       " 'and',\n",
       " 'boreal',\n",
       " 'animals',\n",
       " 'still',\n",
       " 'evoke',\n",
       " 'the',\n",
       " 'Canadian',\n",
       " 'heritage',\n",
       " 'of',\n",
       " 'an',\n",
       " 'ecosystem',\n",
       " 'pushed',\n",
       " 'south',\n",
       " 'by',\n",
       " 'glaciers',\n",
       " '20,000',\n",
       " 'years',\n",
       " 'ago.']"
      ]
     },
     "execution_count": 40,
     "metadata": {},
     "output_type": "execute_result"
    }
   ],
   "source": [
    "Data[0]['Y']"
   ]
  },
  {
   "cell_type": "code",
   "execution_count": null,
   "metadata": {},
   "outputs": [],
   "source": [
    "model = Sequential()\n",
    "model.add(Embedding(input_dim=vocab_size, output_dim=embedding_dim, input_length=max_length))\n",
    "model.add(LSTM(units=128))\n",
    "model.add(Dense(vocab_size, activation='softmax'))"
   ]
  },
  {
   "cell_type": "code",
   "execution_count": null,
   "metadata": {},
   "outputs": [],
   "source": [
    "model.compile(loss='categorical_crossentropy', optimizer='adam', metrics=['accuracy'])\n",
    "model.fit(X, y, epochs=10, batch_size=64)"
   ]
  }
 ],
 "metadata": {
  "kernelspec": {
   "display_name": ".venv",
   "language": "python",
   "name": "python3"
  },
  "language_info": {
   "codemirror_mode": {
    "name": "ipython",
    "version": 3
   },
   "file_extension": ".py",
   "mimetype": "text/x-python",
   "name": "python",
   "nbconvert_exporter": "python",
   "pygments_lexer": "ipython3",
   "version": "3.12.3"
  }
 },
 "nbformat": 4,
 "nbformat_minor": 2
}
